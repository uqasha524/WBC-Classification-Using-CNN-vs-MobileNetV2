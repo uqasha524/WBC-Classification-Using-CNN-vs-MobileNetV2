{
 "cells": [
  {
   "cell_type": "code",
   "execution_count": null,
   "id": "b32fc5b6",
   "metadata": {},
   "outputs": [],
   "source": [
    "import tensorflow as tf\n",
    "from tensorflow.keras import layers, models\n",
    "from tensorflow.keras.applications import DenseNet121\n",
    "from tensorflow.keras.callbacks import EarlyStopping, ModelCheckpoint\n",
    "import numpy as np\n",
    "import matplotlib.pyplot as plt\n",
    "import seaborn as sns\n",
    "from sklearn.metrics import classification_report,accuracy_score,confusion_matrix\n",
    "\n"
   ]
  },
  {
   "cell_type": "markdown",
   "id": "8f2bdf22",
   "metadata": {},
   "source": [
    "# Transfer Learning\n",
    "\n",
    "**Transfer learning** is a machine learning technique where a model developed for one task is reused as the starting point for a model on a second, related task. It leverages pre-trained models, saving time and improving performance, especially when training data is limited.\n",
    "\n",
    "However, **remember** that transfer learning does **not always guarantee higher accuracy** compared to a well-designed custom **CNN architecture**. In some cases, your own CNN model may perform better depending on the specific dataset and task.\n",
    "\n"
   ]
  },
  {
   "cell_type": "code",
   "execution_count": null,
   "id": "c0b2c4d8",
   "metadata": {},
   "outputs": [
    {
     "name": "stdout",
     "output_type": "stream",
     "text": [
      "Found 31155 files belonging to 5 classes.\n",
      "Using 24924 files for training.\n",
      "Found 31155 files belonging to 5 classes.\n",
      "Using 6231 files for validation.\n",
      "Found 4339 files belonging to 5 classes.\n"
     ]
    }
   ],
   "source": [
    "IMG_HEIGHT = 224\n",
    "IMG_WIDTH = 224\n",
    "BATCH_SIZE = 32\n",
    "VALIDATION_SPLIT = 0.2\n",
    "SEED = 123\n",
    "\n",
    "train_dir = r'../Dataset/Balanced_Train'\n",
    "test_dir = r'../Dataset/Test'\n",
    "\n",
    "train_ds = tf.keras.utils.image_dataset_from_directory(\n",
    "    train_dir,\n",
    "    validation_split=VALIDATION_SPLIT,\n",
    "    subset=\"training\",\n",
    "    seed=SEED,\n",
    "    label_mode='categorical',\n",
    "    image_size=(IMG_HEIGHT, IMG_WIDTH),\n",
    "    batch_size=BATCH_SIZE,\n",
    "    shuffle=True\n",
    ")\n",
    "\n",
    "val_ds = tf.keras.utils.image_dataset_from_directory(\n",
    "    train_dir,\n",
    "    validation_split=VALIDATION_SPLIT,\n",
    "    subset=\"validation\",\n",
    "    seed=SEED,\n",
    "    label_mode='categorical',\n",
    "    image_size=(IMG_HEIGHT, IMG_WIDTH),\n",
    "    batch_size=BATCH_SIZE,\n",
    "    shuffle=True\n",
    ")\n",
    "\n",
    "test_ds_raw = tf.keras.utils.image_dataset_from_directory(\n",
    "    test_dir,\n",
    "    label_mode='categorical',\n",
    "    image_size=(IMG_HEIGHT, IMG_WIDTH),\n",
    "    batch_size=BATCH_SIZE,\n",
    "    shuffle=False\n",
    ")\n",
    "\n",
    "\n",
    "\n",
    "train_ds = train_ds.map(lambda x, y: (tf.cast(x, tf.float32) / 255.0, y)).prefetch(tf.data.AUTOTUNE)\n",
    "val_ds = val_ds.map(lambda x, y: (tf.cast(x, tf.float32) / 255.0, y)).prefetch(tf.data.AUTOTUNE)\n",
    "test_ds = test_ds_raw.map(lambda x, y: (tf.cast(x, tf.float32) / 255.0, y)).prefetch(tf.data.AUTOTUNE)\n",
    "\n",
    "class_names = test_ds_raw.class_names\n"
   ]
  },
  {
   "cell_type": "markdown",
   "id": "89599372",
   "metadata": {},
   "source": [
    "# DenseNet"
   ]
  },
  {
   "cell_type": "code",
   "execution_count": null,
   "id": "c435f3c4",
   "metadata": {},
   "outputs": [
    {
     "name": "stdout",
     "output_type": "stream",
     "text": [
      "Epoch 1/30\n",
      "\u001b[1m779/779\u001b[0m \u001b[32m━━━━━━━━━━━━━━━━━━━━\u001b[0m\u001b[37m\u001b[0m \u001b[1m0s\u001b[0m 2s/step - accuracy: 0.7475 - loss: 0.7358\n",
      "Epoch 1: val_accuracy improved from -inf to 0.90997, saving model to ..\\Model\\dense_model_freeze.h5\n"
     ]
    },
    {
     "name": "stderr",
     "output_type": "stream",
     "text": [
      "WARNING:absl:You are saving your model as an HDF5 file via `model.save()` or `keras.saving.save_model(model)`. This file format is considered legacy. We recommend using instead the native Keras format, e.g. `model.save('my_model.keras')` or `keras.saving.save_model(model, 'my_model.keras')`. \n"
     ]
    },
    {
     "name": "stdout",
     "output_type": "stream",
     "text": [
      "\u001b[1m779/779\u001b[0m \u001b[32m━━━━━━━━━━━━━━━━━━━━\u001b[0m\u001b[37m\u001b[0m \u001b[1m1748s\u001b[0m 2s/step - accuracy: 0.7476 - loss: 0.7355 - val_accuracy: 0.9100 - val_loss: 0.2768\n",
      "Epoch 2/30\n",
      "\u001b[1m779/779\u001b[0m \u001b[32m━━━━━━━━━━━━━━━━━━━━\u001b[0m\u001b[37m\u001b[0m \u001b[1m0s\u001b[0m 2s/step - accuracy: 0.9142 - loss: 0.2624\n",
      "Epoch 2: val_accuracy improved from 0.90997 to 0.91847, saving model to ..\\Model\\dense_model_freeze.h5\n"
     ]
    },
    {
     "name": "stderr",
     "output_type": "stream",
     "text": [
      "WARNING:absl:You are saving your model as an HDF5 file via `model.save()` or `keras.saving.save_model(model)`. This file format is considered legacy. We recommend using instead the native Keras format, e.g. `model.save('my_model.keras')` or `keras.saving.save_model(model, 'my_model.keras')`. \n"
     ]
    },
    {
     "name": "stdout",
     "output_type": "stream",
     "text": [
      "\u001b[1m779/779\u001b[0m \u001b[32m━━━━━━━━━━━━━━━━━━━━\u001b[0m\u001b[37m\u001b[0m \u001b[1m1764s\u001b[0m 2s/step - accuracy: 0.9142 - loss: 0.2624 - val_accuracy: 0.9185 - val_loss: 0.2259\n",
      "Epoch 3/30\n",
      "\u001b[1m779/779\u001b[0m \u001b[32m━━━━━━━━━━━━━━━━━━━━\u001b[0m\u001b[37m\u001b[0m \u001b[1m0s\u001b[0m 2s/step - accuracy: 0.9290 - loss: 0.2090\n",
      "Epoch 3: val_accuracy improved from 0.91847 to 0.92730, saving model to ..\\Model\\dense_model_freeze.h5\n"
     ]
    },
    {
     "name": "stderr",
     "output_type": "stream",
     "text": [
      "WARNING:absl:You are saving your model as an HDF5 file via `model.save()` or `keras.saving.save_model(model)`. This file format is considered legacy. We recommend using instead the native Keras format, e.g. `model.save('my_model.keras')` or `keras.saving.save_model(model, 'my_model.keras')`. \n"
     ]
    },
    {
     "name": "stdout",
     "output_type": "stream",
     "text": [
      "\u001b[1m779/779\u001b[0m \u001b[32m━━━━━━━━━━━━━━━━━━━━\u001b[0m\u001b[37m\u001b[0m \u001b[1m1793s\u001b[0m 2s/step - accuracy: 0.9290 - loss: 0.2090 - val_accuracy: 0.9273 - val_loss: 0.2034\n",
      "Epoch 4/30\n",
      "\u001b[1m779/779\u001b[0m \u001b[32m━━━━━━━━━━━━━━━━━━━━\u001b[0m\u001b[37m\u001b[0m \u001b[1m0s\u001b[0m 2s/step - accuracy: 0.9344 - loss: 0.1876\n",
      "Epoch 4: val_accuracy did not improve from 0.92730\n",
      "\u001b[1m779/779\u001b[0m \u001b[32m━━━━━━━━━━━━━━━━━━━━\u001b[0m\u001b[37m\u001b[0m \u001b[1m1815s\u001b[0m 2s/step - accuracy: 0.9344 - loss: 0.1876 - val_accuracy: 0.9052 - val_loss: 0.2551\n",
      "Epoch 5/30\n",
      "\u001b[1m779/779\u001b[0m \u001b[32m━━━━━━━━━━━━━━━━━━━━\u001b[0m\u001b[37m\u001b[0m \u001b[1m0s\u001b[0m 2s/step - accuracy: 0.9373 - loss: 0.1773\n",
      "Epoch 5: val_accuracy did not improve from 0.92730\n",
      "\u001b[1m779/779\u001b[0m \u001b[32m━━━━━━━━━━━━━━━━━━━━\u001b[0m\u001b[37m\u001b[0m \u001b[1m1860s\u001b[0m 2s/step - accuracy: 0.9373 - loss: 0.1773 - val_accuracy: 0.9079 - val_loss: 0.2421\n",
      "Epoch 6/30\n",
      "\u001b[1m779/779\u001b[0m \u001b[32m━━━━━━━━━━━━━━━━━━━━\u001b[0m\u001b[37m\u001b[0m \u001b[1m0s\u001b[0m 2s/step - accuracy: 0.9430 - loss: 0.1665\n",
      "Epoch 6: val_accuracy improved from 0.92730 to 0.94624, saving model to ..\\Model\\dense_model_freeze.h5\n"
     ]
    },
    {
     "name": "stderr",
     "output_type": "stream",
     "text": [
      "WARNING:absl:You are saving your model as an HDF5 file via `model.save()` or `keras.saving.save_model(model)`. This file format is considered legacy. We recommend using instead the native Keras format, e.g. `model.save('my_model.keras')` or `keras.saving.save_model(model, 'my_model.keras')`. \n"
     ]
    },
    {
     "name": "stdout",
     "output_type": "stream",
     "text": [
      "\u001b[1m779/779\u001b[0m \u001b[32m━━━━━━━━━━━━━━━━━━━━\u001b[0m\u001b[37m\u001b[0m \u001b[1m1951s\u001b[0m 3s/step - accuracy: 0.9430 - loss: 0.1665 - val_accuracy: 0.9462 - val_loss: 0.1516\n",
      "Epoch 7/30\n",
      "\u001b[1m779/779\u001b[0m \u001b[32m━━━━━━━━━━━━━━━━━━━━\u001b[0m\u001b[37m\u001b[0m \u001b[1m0s\u001b[0m 2s/step - accuracy: 0.9433 - loss: 0.1600\n",
      "Epoch 7: val_accuracy did not improve from 0.94624\n",
      "\u001b[1m779/779\u001b[0m \u001b[32m━━━━━━━━━━━━━━━━━━━━\u001b[0m\u001b[37m\u001b[0m \u001b[1m1610s\u001b[0m 2s/step - accuracy: 0.9433 - loss: 0.1600 - val_accuracy: 0.9002 - val_loss: 0.2866\n",
      "Epoch 8/30\n",
      "\u001b[1m779/779\u001b[0m \u001b[32m━━━━━━━━━━━━━━━━━━━━\u001b[0m\u001b[37m\u001b[0m \u001b[1m0s\u001b[0m 2s/step - accuracy: 0.9439 - loss: 0.1596\n",
      "Epoch 8: val_accuracy did not improve from 0.94624\n",
      "\u001b[1m779/779\u001b[0m \u001b[32m━━━━━━━━━━━━━━━━━━━━\u001b[0m\u001b[37m\u001b[0m \u001b[1m1645s\u001b[0m 2s/step - accuracy: 0.9439 - loss: 0.1596 - val_accuracy: 0.9385 - val_loss: 0.1735\n",
      "Epoch 9/30\n",
      "\u001b[1m779/779\u001b[0m \u001b[32m━━━━━━━━━━━━━━━━━━━━\u001b[0m\u001b[37m\u001b[0m \u001b[1m0s\u001b[0m 2s/step - accuracy: 0.9434 - loss: 0.1564\n",
      "Epoch 9: val_accuracy improved from 0.94624 to 0.94704, saving model to ..\\Model\\dense_model_freeze.h5\n"
     ]
    },
    {
     "name": "stderr",
     "output_type": "stream",
     "text": [
      "WARNING:absl:You are saving your model as an HDF5 file via `model.save()` or `keras.saving.save_model(model)`. This file format is considered legacy. We recommend using instead the native Keras format, e.g. `model.save('my_model.keras')` or `keras.saving.save_model(model, 'my_model.keras')`. \n"
     ]
    },
    {
     "name": "stdout",
     "output_type": "stream",
     "text": [
      "\u001b[1m779/779\u001b[0m \u001b[32m━━━━━━━━━━━━━━━━━━━━\u001b[0m\u001b[37m\u001b[0m \u001b[1m1735s\u001b[0m 2s/step - accuracy: 0.9434 - loss: 0.1564 - val_accuracy: 0.9470 - val_loss: 0.1473\n",
      "Epoch 10/30\n",
      "\u001b[1m779/779\u001b[0m \u001b[32m━━━━━━━━━━━━━━━━━━━━\u001b[0m\u001b[37m\u001b[0m \u001b[1m0s\u001b[0m 2s/step - accuracy: 0.9466 - loss: 0.1503\n",
      "Epoch 10: val_accuracy did not improve from 0.94704\n",
      "\u001b[1m779/779\u001b[0m \u001b[32m━━━━━━━━━━━━━━━━━━━━\u001b[0m\u001b[37m\u001b[0m \u001b[1m1818s\u001b[0m 2s/step - accuracy: 0.9466 - loss: 0.1503 - val_accuracy: 0.9321 - val_loss: 0.1834\n",
      "Epoch 11/30\n",
      "\u001b[1m779/779\u001b[0m \u001b[32m━━━━━━━━━━━━━━━━━━━━\u001b[0m\u001b[37m\u001b[0m \u001b[1m0s\u001b[0m 2s/step - accuracy: 0.9482 - loss: 0.1517"
     ]
    }
   ],
   "source": [
    "freeze_model = DenseNet121(include_top=False, weights='imagenet', input_shape=(224, 224, 3))\n",
    "freeze_model.trainable = False  # Freeze all layers\n",
    "\n",
    "# Transfer learning model\n",
    "model_dense_freeze = models.Sequential([\n",
    "    freeze_model,\n",
    "    layers.GlobalAveragePooling2D(),\n",
    "    layers.Dense(8, activation='relu'),\n",
    "    layers.BatchNormalization(),\n",
    "    layers.Dense(5, activation='softmax')  # 5 classes\n",
    "])\n",
    "\n",
    "# Compile\n",
    "model_dense_freeze.compile(optimizer='adamW', loss='categorical_crossentropy', metrics=['accuracy'])\n",
    "\n",
    "# Callbacks\n",
    "callbacks = [\n",
    "    EarlyStopping(patience=4, restore_best_weights=True),\n",
    "    ModelCheckpoint(r'..\\Model\\dense_model_freeze.h5', monitor='val_accuracy', save_best_only=True, mode='max', verbose=1)\n",
    "]\n",
    "\n",
    "model_dense_freeze.fit( \n",
    "    train_ds,\n",
    "    validation_data=val_ds,\n",
    "    epochs=30,\n",
    "    callbacks=callbacks\n",
    ")\n",
    "\n",
    "model_dense_freeze.fit( \n",
    "    train_ds,\n",
    "    validation_data=val_ds,\n",
    "    epochs=50,\n",
    "    callbacks=callbacks\n",
    ")"
   ]
  },
  {
   "cell_type": "code",
   "execution_count": 12,
   "id": "e8e6d28f",
   "metadata": {},
   "outputs": [
    {
     "name": "stderr",
     "output_type": "stream",
     "text": [
      "WARNING:absl:Compiled the loaded model, but the compiled metrics have yet to be built. `model.compile_metrics` will be empty until you train or evaluate the model.\n"
     ]
    }
   ],
   "source": [
    "\n",
    "model=models.load_model(r\"D:\\Internship\\Blood_Type_Classification_CNN\\Model\\dense_model_freeze_1.h5\")"
   ]
  },
  {
   "cell_type": "code",
   "execution_count": 13,
   "id": "4ff926dc",
   "metadata": {},
   "outputs": [
    {
     "name": "stdout",
     "output_type": "stream",
     "text": [
      "\u001b[1m136/136\u001b[0m \u001b[32m━━━━━━━━━━━━━━━━━━━━\u001b[0m\u001b[37m\u001b[0m \u001b[1m292s\u001b[0m 2s/step\n",
      "Test Accuracy: 0.8444\n"
     ]
    },
    {
     "data": {
      "image/png": "[encoded data removed]",
      "text/plain": [
       "<Figure size 500x400 with 2 Axes>"
      ]
     },
     "metadata": {},
     "output_type": "display_data"
    },
    {
     "name": "stdout",
     "output_type": "stream",
     "text": [
      "              precision    recall  f1-score   support\n",
      "\n",
      "    Basophil       0.84      0.98      0.90        89\n",
      "  Eosinophil       0.49      0.85      0.62       322\n",
      "  Lymphocyte       0.76      0.97      0.85      1034\n",
      "    Monocyte       0.87      0.66      0.75       234\n",
      "  Neutrophil       0.99      0.81      0.89      2660\n",
      "\n",
      "    accuracy                           0.84      4339\n",
      "   macro avg       0.79      0.85      0.80      4339\n",
      "weighted avg       0.89      0.84      0.85      4339\n",
      "\n"
     ]
    }
   ],
   "source": [
    "# Predict\n",
    "y_pred = model.predict(test_ds)\n",
    "y_pred_classes = y_pred.argmax(axis=1)\n",
    "\n",
    "# Get true labels\n",
    "y_true = []\n",
    "for _, labels in test_ds:\n",
    "    y_true.extend(labels.numpy())\n",
    "y_true = np.array(y_true)\n",
    "y_true = np.argmax(y_true, axis=1)  \n",
    "\n",
    "# Accuracy\n",
    "acc = accuracy_score(y_true, y_pred_classes)\n",
    "print(f\"Test Accuracy: {acc:.4f}\") \n",
    "\n",
    "# Confusion Matrix\n",
    "cm = confusion_matrix(y_true, y_pred_classes)\n",
    "plt.figure(figsize=(5, 4))\n",
    "sns.heatmap(cm, annot=True, fmt='d', cmap='Blues')\n",
    "plt.xlabel(\"Predicted\")\n",
    "plt.ylabel(\"Actual\")\n",
    "plt.title(\"Confusion Matrix on Test Data\")\n",
    "plt.show()\n",
    "\n",
    "# Classification Report\n",
    "print(classification_report(y_true, y_pred_classes, target_names=class_names))\n"
   ]
  }
 ],
 "metadata": {
  "kernelspec": {
   "display_name": "dl_py",
   "language": "python",
   "name": "python3"
  },
  "language_info": {
   "codemirror_mode": {
    "name": "ipython",
    "version": 3
   },
   "file_extension": ".py",
   "mimetype": "text/x-python",
   "name": "python",
   "nbconvert_exporter": "python",
   "pygments_lexer": "ipython3",
   "version": "3.10.18"
  }
 },
 "nbformat": 4,
 "nbformat_minor": 5
}
