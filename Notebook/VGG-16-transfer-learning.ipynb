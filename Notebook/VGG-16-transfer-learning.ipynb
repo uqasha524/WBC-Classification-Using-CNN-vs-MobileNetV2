{
 "cells": [
  {
   "cell_type": "code",
   "execution_count": 2,
   "metadata": {
    "_cell_guid": "b1076dfc-b9ad-4769-8c92-a6c4dae69d19",
    "_uuid": "8f2839f25d086af736a60e9eeb907d3b93b6e0e5",
    "execution": {
     "iopub.execute_input": "2025-07-15T07:32:31.773550Z",
     "iopub.status.busy": "2025-07-15T07:32:31.772978Z",
     "iopub.status.idle": "2025-07-15T07:32:31.777985Z",
     "shell.execute_reply": "2025-07-15T07:32:31.777249Z",
     "shell.execute_reply.started": "2025-07-15T07:32:31.773527Z"
    },
    "trusted": true
   },
   "outputs": [],
   "source": [
    "import tensorflow as tf\n",
    "from tensorflow.keras import layers, models\n",
    "from tensorflow.keras.applications import VGG16\n",
    "from tensorflow.keras.callbacks import EarlyStopping, ModelCheckpoint\n",
    "import numpy as np\n",
    "import matplotlib.pyplot as plt\n",
    "import seaborn as sns\n",
    "from sklearn.metrics import classification_report,accuracy_score,confusion_matrix\n",
    "from tensorflow.keras.preprocessing import image\n",
    "\n",
    "\n"
   ]
  },
  {
   "cell_type": "code",
   "execution_count": null,
   "metadata": {
    "execution": {
     "iopub.execute_input": "2025-07-15T05:24:25.373066Z",
     "iopub.status.busy": "2025-07-15T05:24:25.372799Z",
     "iopub.status.idle": "2025-07-15T05:24:27.764884Z",
     "shell.execute_reply": "2025-07-15T05:24:27.764343Z",
     "shell.execute_reply.started": "2025-07-15T05:24:25.373049Z"
    },
    "trusted": true
   },
   "outputs": [
    {
     "name": "stdout",
     "output_type": "stream",
     "text": [
      "Found 31155 files belonging to 5 classes.\n",
      "Using 24924 files for training.\n",
      "Found 31155 files belonging to 5 classes.\n",
      "Using 6231 files for validation.\n"
     ]
    }
   ],
   "source": [
    "IMG_HEIGHT = 350\n",
    "IMG_WIDTH = 350\n",
    "BATCH_SIZE = 32\n",
    "VALIDATION_SPLIT = 0.2\n",
    "SEED = 123\n",
    "\n",
    "train_dir = r'..\\Dataset\\Balanced_Train'\n",
    "\n",
    "train_ds = tf.keras.utils.image_dataset_from_directory(\n",
    "    train_dir,\n",
    "    validation_split=VALIDATION_SPLIT,\n",
    "    subset=\"training\",\n",
    "    seed=SEED,\n",
    "    label_mode='categorical',\n",
    "    image_size=(IMG_HEIGHT, IMG_WIDTH),\n",
    "    batch_size=BATCH_SIZE,\n",
    "    shuffle=True\n",
    ")\n",
    "\n",
    "val_ds = tf.keras.utils.image_dataset_from_directory(\n",
    "    train_dir,\n",
    "    validation_split=VALIDATION_SPLIT,\n",
    "    subset=\"validation\",\n",
    "    seed=SEED,\n",
    "    label_mode='categorical',\n",
    "    image_size=(IMG_HEIGHT, IMG_WIDTH),\n",
    "    batch_size=BATCH_SIZE,\n",
    "    shuffle=True\n",
    ")\n",
    "\n",
    "\n",
    "\n",
    "\n",
    "\n",
    "train_ds = train_ds.map(lambda x, y: (tf.cast(x, tf.float32) / 255.0, y)).prefetch(tf.data.AUTOTUNE)\n",
    "val_ds = val_ds.map(lambda x, y: (tf.cast(x, tf.float32) / 255.0, y)).prefetch(tf.data.AUTOTUNE)\n",
    "\n"
   ]
  },
  {
   "cell_type": "code",
   "execution_count": null,
   "metadata": {
    "trusted": true
   },
   "outputs": [],
   "source": []
  },
  {
   "cell_type": "code",
   "execution_count": null,
   "metadata": {
    "execution": {
     "iopub.execute_input": "2025-07-15T05:25:48.945382Z",
     "iopub.status.busy": "2025-07-15T05:25:48.945120Z",
     "iopub.status.idle": "2025-07-15T07:27:54.383785Z",
     "shell.execute_reply": "2025-07-15T07:27:54.382997Z",
     "shell.execute_reply.started": "2025-07-15T05:25:48.945364Z"
    },
    "trusted": true
   },
   "outputs": [
    {
     "name": "stdout",
     "output_type": "stream",
     "text": [
      "Epoch 1/50\n",
      "\u001b[1m778/779\u001b[0m \u001b[32m━━━━━━━━━━━━━━━━━━━\u001b[0m\u001b[37m━\u001b[0m \u001b[1m0s\u001b[0m 433ms/step - accuracy: 0.8922 - loss: 0.3637"
     ]
    },
    {
     "name": "stderr",
     "output_type": "stream",
     "text": [
      "2025-07-15 05:31:36.387770: E external/local_xla/xla/service/slow_operation_alarm.cc:65] Trying algorithm eng0{} for conv (f32[28,64,350,350]{3,2,1,0}, u8[0]{0}) custom-call(f32[28,64,350,350]{3,2,1,0}, f32[64,64,3,3]{3,2,1,0}, f32[64]{0}), window={size=3x3 pad=1_1x1_1}, dim_labels=bf01_oi01->bf01, custom_call_target=\"__cudnn$convBiasActivationForward\", backend_config={\"cudnn_conv_backend_config\":{\"activation_mode\":\"kRelu\",\"conv_result_scale\":1,\"leakyrelu_alpha\":0,\"side_input_scale\":0},\"force_earliest_schedule\":false,\"operation_queue_id\":\"0\",\"wait_on_operation_queues\":[]} is taking a while...\n",
      "2025-07-15 05:31:38.438010: E external/local_xla/xla/service/slow_operation_alarm.cc:133] The operation took 3.050349023s\n",
      "Trying algorithm eng0{} for conv (f32[28,64,350,350]{3,2,1,0}, u8[0]{0}) custom-call(f32[28,64,350,350]{3,2,1,0}, f32[64,64,3,3]{3,2,1,0}, f32[64]{0}), window={size=3x3 pad=1_1x1_1}, dim_labels=bf01_oi01->bf01, custom_call_target=\"__cudnn$convBiasActivationForward\", backend_config={\"cudnn_conv_backend_config\":{\"activation_mode\":\"kRelu\",\"conv_result_scale\":1,\"leakyrelu_alpha\":0,\"side_input_scale\":0},\"force_earliest_schedule\":false,\"operation_queue_id\":\"0\",\"wait_on_operation_queues\":[]} is taking a while...\n"
     ]
    },
    {
     "name": "stdout",
     "output_type": "stream",
     "text": [
      "\u001b[1m779/779\u001b[0m \u001b[32m━━━━━━━━━━━━━━━━━━━━\u001b[0m\u001b[37m\u001b[0m \u001b[1m0s\u001b[0m 467ms/step - accuracy: 0.8922 - loss: 0.3635"
     ]
    },
    {
     "name": "stderr",
     "output_type": "stream",
     "text": [
      "2025-07-15 05:33:28.875752: E external/local_xla/xla/service/slow_operation_alarm.cc:65] Trying algorithm eng0{} for conv (f32[23,64,350,350]{3,2,1,0}, u8[0]{0}) custom-call(f32[23,64,350,350]{3,2,1,0}, f32[64,64,3,3]{3,2,1,0}, f32[64]{0}), window={size=3x3 pad=1_1x1_1}, dim_labels=bf01_oi01->bf01, custom_call_target=\"__cudnn$convBiasActivationForward\", backend_config={\"cudnn_conv_backend_config\":{\"activation_mode\":\"kRelu\",\"conv_result_scale\":1,\"leakyrelu_alpha\":0,\"side_input_scale\":0},\"force_earliest_schedule\":false,\"operation_queue_id\":\"0\",\"wait_on_operation_queues\":[]} is taking a while...\n",
      "2025-07-15 05:33:30.374687: E external/local_xla/xla/service/slow_operation_alarm.cc:133] The operation took 2.499025754s\n",
      "Trying algorithm eng0{} for conv (f32[23,64,350,350]{3,2,1,0}, u8[0]{0}) custom-call(f32[23,64,350,350]{3,2,1,0}, f32[64,64,3,3]{3,2,1,0}, f32[64]{0}), window={size=3x3 pad=1_1x1_1}, dim_labels=bf01_oi01->bf01, custom_call_target=\"__cudnn$convBiasActivationForward\", backend_config={\"cudnn_conv_backend_config\":{\"activation_mode\":\"kRelu\",\"conv_result_scale\":1,\"leakyrelu_alpha\":0,\"side_input_scale\":0},\"force_earliest_schedule\":false,\"operation_queue_id\":\"0\",\"wait_on_operation_queues\":[]} is taking a while...\n"
     ]
    },
    {
     "name": "stdout",
     "output_type": "stream",
     "text": [
      "\n",
      "Epoch 1: val_accuracy improved from -inf to 0.96020, saving model to vgg16_model_freeze.keras\n",
      "\u001b[1m779/779\u001b[0m \u001b[32m━━━━━━━━━━━━━━━━━━━━\u001b[0m\u001b[37m\u001b[0m \u001b[1m477s\u001b[0m 608ms/step - accuracy: 0.8923 - loss: 0.3633 - val_accuracy: 0.9602 - val_loss: 0.1205\n",
      "Epoch 2/50\n",
      "\u001b[1m779/779\u001b[0m \u001b[32m━━━━━━━━━━━━━━━━━━━━\u001b[0m\u001b[37m\u001b[0m \u001b[1m0s\u001b[0m 438ms/step - accuracy: 0.9847 - loss: 0.0544\n",
      "Epoch 2: val_accuracy improved from 0.96020 to 0.96935, saving model to vgg16_model_freeze.keras\n",
      "\u001b[1m779/779\u001b[0m \u001b[32m━━━━━━━━━━━━━━━━━━━━\u001b[0m\u001b[37m\u001b[0m \u001b[1m428s\u001b[0m 550ms/step - accuracy: 0.9847 - loss: 0.0544 - val_accuracy: 0.9693 - val_loss: 0.0890\n",
      "Epoch 3/50\n",
      "\u001b[1m779/779\u001b[0m \u001b[32m━━━━━━━━━━━━━━━━━━━━\u001b[0m\u001b[37m\u001b[0m \u001b[1m0s\u001b[0m 439ms/step - accuracy: 0.9921 - loss: 0.0278\n",
      "Epoch 3: val_accuracy improved from 0.96935 to 0.97914, saving model to vgg16_model_freeze.keras\n",
      "\u001b[1m779/779\u001b[0m \u001b[32m━━━━━━━━━━━━━━━━━━━━\u001b[0m\u001b[37m\u001b[0m \u001b[1m429s\u001b[0m 551ms/step - accuracy: 0.9921 - loss: 0.0278 - val_accuracy: 0.9791 - val_loss: 0.0622\n",
      "Epoch 4/50\n",
      "\u001b[1m779/779\u001b[0m \u001b[32m━━━━━━━━━━━━━━━━━━━━\u001b[0m\u001b[37m\u001b[0m \u001b[1m0s\u001b[0m 437ms/step - accuracy: 0.9947 - loss: 0.0193\n",
      "Epoch 4: val_accuracy did not improve from 0.97914\n",
      "\u001b[1m779/779\u001b[0m \u001b[32m━━━━━━━━━━━━━━━━━━━━\u001b[0m\u001b[37m\u001b[0m \u001b[1m427s\u001b[0m 549ms/step - accuracy: 0.9947 - loss: 0.0193 - val_accuracy: 0.9697 - val_loss: 0.1010\n",
      "Epoch 5/50\n",
      "\u001b[1m779/779\u001b[0m \u001b[32m━━━━━━━━━━━━━━━━━━━━\u001b[0m\u001b[37m\u001b[0m \u001b[1m0s\u001b[0m 438ms/step - accuracy: 0.9951 - loss: 0.0173\n",
      "Epoch 5: val_accuracy improved from 0.97914 to 0.98074, saving model to vgg16_model_freeze.keras\n",
      "\u001b[1m779/779\u001b[0m \u001b[32m━━━━━━━━━━━━━━━━━━━━\u001b[0m\u001b[37m\u001b[0m \u001b[1m428s\u001b[0m 550ms/step - accuracy: 0.9951 - loss: 0.0173 - val_accuracy: 0.9807 - val_loss: 0.0662\n",
      "Epoch 6/50\n",
      "\u001b[1m779/779\u001b[0m \u001b[32m━━━━━━━━━━━━━━━━━━━━\u001b[0m\u001b[37m\u001b[0m \u001b[1m0s\u001b[0m 438ms/step - accuracy: 0.9938 - loss: 0.0200\n",
      "Epoch 6: val_accuracy did not improve from 0.98074\n",
      "\u001b[1m779/779\u001b[0m \u001b[32m━━━━━━━━━━━━━━━━━━━━\u001b[0m\u001b[37m\u001b[0m \u001b[1m428s\u001b[0m 549ms/step - accuracy: 0.9938 - loss: 0.0200 - val_accuracy: 0.9312 - val_loss: 0.2388\n",
      "Epoch 7/50\n",
      "\u001b[1m779/779\u001b[0m \u001b[32m━━━━━━━━━━━━━━━━━━━━\u001b[0m\u001b[37m\u001b[0m \u001b[1m0s\u001b[0m 438ms/step - accuracy: 0.9940 - loss: 0.0169\n",
      "Epoch 7: val_accuracy improved from 0.98074 to 0.98235, saving model to vgg16_model_freeze.keras\n",
      "\u001b[1m779/779\u001b[0m \u001b[32m━━━━━━━━━━━━━━━━━━━━\u001b[0m\u001b[37m\u001b[0m \u001b[1m428s\u001b[0m 550ms/step - accuracy: 0.9940 - loss: 0.0169 - val_accuracy: 0.9823 - val_loss: 0.0518\n",
      "Epoch 8/50\n",
      "\u001b[1m779/779\u001b[0m \u001b[32m━━━━━━━━━━━━━━━━━━━━\u001b[0m\u001b[37m\u001b[0m \u001b[1m0s\u001b[0m 438ms/step - accuracy: 0.9968 - loss: 0.0114\n",
      "Epoch 8: val_accuracy improved from 0.98235 to 0.98443, saving model to vgg16_model_freeze.keras\n",
      "\u001b[1m779/779\u001b[0m \u001b[32m━━━━━━━━━━━━━━━━━━━━\u001b[0m\u001b[37m\u001b[0m \u001b[1m429s\u001b[0m 550ms/step - accuracy: 0.9968 - loss: 0.0114 - val_accuracy: 0.9844 - val_loss: 0.0602\n",
      "Epoch 9/50\n",
      "\u001b[1m779/779\u001b[0m \u001b[32m━━━━━━━━━━━━━━━━━━━━\u001b[0m\u001b[37m\u001b[0m \u001b[1m0s\u001b[0m 438ms/step - accuracy: 0.9961 - loss: 0.0138\n",
      "Epoch 9: val_accuracy did not improve from 0.98443\n",
      "\u001b[1m779/779\u001b[0m \u001b[32m━━━━━━━━━━━━━━━━━━━━\u001b[0m\u001b[37m\u001b[0m \u001b[1m428s\u001b[0m 549ms/step - accuracy: 0.9961 - loss: 0.0138 - val_accuracy: 0.9831 - val_loss: 0.0611\n",
      "Epoch 10/50\n",
      "\u001b[1m779/779\u001b[0m \u001b[32m━━━━━━━━━━━━━━━━━━━━\u001b[0m\u001b[37m\u001b[0m \u001b[1m0s\u001b[0m 437ms/step - accuracy: 0.9957 - loss: 0.0130\n",
      "Epoch 10: val_accuracy improved from 0.98443 to 0.98748, saving model to vgg16_model_freeze.keras\n",
      "\u001b[1m779/779\u001b[0m \u001b[32m━━━━━━━━━━━━━━━━━━━━\u001b[0m\u001b[37m\u001b[0m \u001b[1m427s\u001b[0m 549ms/step - accuracy: 0.9957 - loss: 0.0130 - val_accuracy: 0.9875 - val_loss: 0.0415\n",
      "Epoch 11/50\n",
      "\u001b[1m779/779\u001b[0m \u001b[32m━━━━━━━━━━━━━━━━━━━━\u001b[0m\u001b[37m\u001b[0m \u001b[1m0s\u001b[0m 438ms/step - accuracy: 0.9961 - loss: 0.0125\n",
      "Epoch 11: val_accuracy did not improve from 0.98748\n",
      "\u001b[1m779/779\u001b[0m \u001b[32m━━━━━━━━━━━━━━━━━━━━\u001b[0m\u001b[37m\u001b[0m \u001b[1m428s\u001b[0m 549ms/step - accuracy: 0.9961 - loss: 0.0125 - val_accuracy: 0.9703 - val_loss: 0.1110\n",
      "Epoch 12/50\n",
      "\u001b[1m779/779\u001b[0m \u001b[32m━━━━━━━━━━━━━━━━━━━━\u001b[0m\u001b[37m\u001b[0m \u001b[1m0s\u001b[0m 438ms/step - accuracy: 0.9974 - loss: 0.0095\n",
      "Epoch 12: val_accuracy did not improve from 0.98748\n",
      "\u001b[1m779/779\u001b[0m \u001b[32m━━━━━━━━━━━━━━━━━━━━\u001b[0m\u001b[37m\u001b[0m \u001b[1m428s\u001b[0m 549ms/step - accuracy: 0.9974 - loss: 0.0095 - val_accuracy: 0.9868 - val_loss: 0.0446\n",
      "Epoch 13/50\n",
      "\u001b[1m779/779\u001b[0m \u001b[32m━━━━━━━━━━━━━━━━━━━━\u001b[0m\u001b[37m\u001b[0m \u001b[1m0s\u001b[0m 438ms/step - accuracy: 0.9990 - loss: 0.0039\n",
      "Epoch 13: val_accuracy did not improve from 0.98748\n",
      "\u001b[1m779/779\u001b[0m \u001b[32m━━━━━━━━━━━━━━━━━━━━\u001b[0m\u001b[37m\u001b[0m \u001b[1m428s\u001b[0m 549ms/step - accuracy: 0.9990 - loss: 0.0039 - val_accuracy: 0.9812 - val_loss: 0.0684\n",
      "Epoch 14/50\n",
      "\u001b[1m779/779\u001b[0m \u001b[32m━━━━━━━━━━━━━━━━━━━━\u001b[0m\u001b[37m\u001b[0m \u001b[1m0s\u001b[0m 438ms/step - accuracy: 0.9968 - loss: 0.0099\n",
      "Epoch 14: val_accuracy did not improve from 0.98748\n",
      "\u001b[1m779/779\u001b[0m \u001b[32m━━━━━━━━━━━━━━━━━━━━\u001b[0m\u001b[37m\u001b[0m \u001b[1m428s\u001b[0m 549ms/step - accuracy: 0.9968 - loss: 0.0099 - val_accuracy: 0.9865 - val_loss: 0.0458\n",
      "Epoch 15/50\n",
      "\u001b[1m779/779\u001b[0m \u001b[32m━━━━━━━━━━━━━━━━━━━━\u001b[0m\u001b[37m\u001b[0m \u001b[1m0s\u001b[0m 438ms/step - accuracy: 0.9981 - loss: 0.0065\n",
      "Epoch 15: val_accuracy improved from 0.98748 to 0.98909, saving model to vgg16_model_freeze.keras\n",
      "\u001b[1m779/779\u001b[0m \u001b[32m━━━━━━━━━━━━━━━━━━━━\u001b[0m\u001b[37m\u001b[0m \u001b[1m428s\u001b[0m 550ms/step - accuracy: 0.9981 - loss: 0.0065 - val_accuracy: 0.9891 - val_loss: 0.0444\n",
      "Epoch 16/50\n",
      "\u001b[1m779/779\u001b[0m \u001b[32m━━━━━━━━━━━━━━━━━━━━\u001b[0m\u001b[37m\u001b[0m \u001b[1m0s\u001b[0m 438ms/step - accuracy: 0.9986 - loss: 0.0051\n",
      "Epoch 16: val_accuracy did not improve from 0.98909\n",
      "\u001b[1m779/779\u001b[0m \u001b[32m━━━━━━━━━━━━━━━━━━━━\u001b[0m\u001b[37m\u001b[0m \u001b[1m428s\u001b[0m 550ms/step - accuracy: 0.9986 - loss: 0.0051 - val_accuracy: 0.9823 - val_loss: 0.0687\n",
      "Epoch 17/50\n",
      "\u001b[1m779/779\u001b[0m \u001b[32m━━━━━━━━━━━━━━━━━━━━\u001b[0m\u001b[37m\u001b[0m \u001b[1m0s\u001b[0m 438ms/step - accuracy: 0.9984 - loss: 0.0053\n",
      "Epoch 17: val_accuracy did not improve from 0.98909\n",
      "\u001b[1m779/779\u001b[0m \u001b[32m━━━━━━━━━━━━━━━━━━━━\u001b[0m\u001b[37m\u001b[0m \u001b[1m428s\u001b[0m 550ms/step - accuracy: 0.9984 - loss: 0.0053 - val_accuracy: 0.9888 - val_loss: 0.0417\n"
     ]
    },
    {
     "data": {
      "text/plain": [
       "<keras.src.callbacks.history.History at 0x7ce13e5874d0>"
      ]
     },
     "execution_count": 6,
     "metadata": {},
     "output_type": "execute_result"
    }
   ],
   "source": [
    "base_model = VGG16(include_top=False, weights='imagenet', input_shape=(350, 350, 3))\n",
    "base_model.trainable = False  \n",
    "\n",
    "model_vgg16_freeze = models.Sequential([\n",
    "    base_model,\n",
    "    layers.Flatten(),  \n",
    "    layers.Dense(32, activation='relu'),\n",
    "    layers.BatchNormalization(),\n",
    "    layers.Dense(5, activation='softmax')  \n",
    "])\n",
    "\n",
    "model_vgg16_freeze.compile(\n",
    "    optimizer='adamW',\n",
    "    loss='categorical_crossentropy',\n",
    "    metrics=['accuracy']\n",
    ")\n",
    "\n",
    "callbacks = [\n",
    "    EarlyStopping(patience=7, restore_best_weights=True),\n",
    "    ModelCheckpoint(r'../Model/vgg16_model_freeze.keras', monitor='val_accuracy', save_best_only=True, mode='max', verbose=1)\n",
    "]\n",
    "\n",
    "model_vgg16_freeze.fit(\n",
    "    train_ds,\n",
    "    validation_data=val_ds,\n",
    "    epochs=50,\n",
    "    callbacks=callbacks\n",
    ")\n"
   ]
  },
  {
   "cell_type": "code",
   "execution_count": 3,
   "metadata": {
    "execution": {
     "iopub.execute_input": "2025-07-15T07:28:21.648770Z",
     "iopub.status.busy": "2025-07-15T07:28:21.648470Z",
     "iopub.status.idle": "2025-07-15T07:28:22.017947Z",
     "shell.execute_reply": "2025-07-15T07:28:22.017108Z",
     "shell.execute_reply.started": "2025-07-15T07:28:21.648746Z"
    },
    "trusted": true
   },
   "outputs": [],
   "source": [
    "model=models.load_model(r'../Model/vgg16_freeze.keras')"
   ]
  },
  {
   "cell_type": "code",
   "execution_count": null,
   "metadata": {
    "execution": {
     "iopub.execute_input": "2025-07-15T07:28:27.145463Z",
     "iopub.status.busy": "2025-07-15T07:28:27.144875Z",
     "iopub.status.idle": "2025-07-15T07:28:37.732483Z",
     "shell.execute_reply": "2025-07-15T07:28:37.731937Z",
     "shell.execute_reply.started": "2025-07-15T07:28:27.145438Z"
    },
    "trusted": true
   },
   "outputs": [
    {
     "name": "stdout",
     "output_type": "stream",
     "text": [
      "Found 4339 files belonging to 5 classes.\n"
     ]
    }
   ],
   "source": [
    "IMG_HEIGHT = 350\n",
    "IMG_WIDTH = 350\n",
    "BATCH_SIZE = 32\n",
    "VALIDATION_SPLIT = 0.2\n",
    "SEED = 123\n",
    "\n",
    "test_dir = r'..\\Dataset\\Test'\n",
    "\n",
    "\n",
    "test_ds_raw = tf.keras.utils.image_dataset_from_directory(\n",
    "    test_dir,\n",
    "    label_mode='categorical',\n",
    "    image_size=(IMG_HEIGHT, IMG_WIDTH),\n",
    "    batch_size=BATCH_SIZE,\n",
    "    shuffle=False\n",
    ")\n",
    "\n",
    "\n",
    "\n",
    "\n",
    "test_ds = test_ds_raw.map(lambda x, y: (tf.cast(x, tf.float32) / 255.0, y)).prefetch(tf.data.AUTOTUNE)\n",
    "\n",
    "class_names = test_ds_raw.class_names\n"
   ]
  },
  {
   "cell_type": "code",
   "execution_count": null,
   "metadata": {
    "execution": {
     "iopub.execute_input": "2025-07-15T07:30:18.939999Z",
     "iopub.status.busy": "2025-07-15T07:30:18.939670Z",
     "iopub.status.idle": "2025-07-15T07:31:25.995836Z",
     "shell.execute_reply": "2025-07-15T07:31:25.995003Z",
     "shell.execute_reply.started": "2025-07-15T07:30:18.939950Z"
    },
    "trusted": true
   },
   "outputs": [
    {
     "name": "stdout",
     "output_type": "stream",
     "text": [
      "\u001b[1m136/136\u001b[0m \u001b[32m━━━━━━━━━━━━━━━━━━━━\u001b[0m\u001b[37m\u001b[0m \u001b[1m62s\u001b[0m 453ms/step\n",
      "Test Accuracy: 0.9465\n"
     ]
    },
    {
     "data": {
      "image/png": "[encoded data removed]",
      "text/plain": [
       "<Figure size 500x400 with 2 Axes>"
      ]
     },
     "metadata": {},
     "output_type": "display_data"
    },
    {
     "name": "stdout",
     "output_type": "stream",
     "text": [
      "              precision    recall  f1-score   support\n",
      "\n",
      "    Basophil       1.00      0.99      0.99        89\n",
      "  Eosinophil       0.69      0.93      0.80       322\n",
      "  Lymphocyte       0.98      0.97      0.97      1034\n",
      "    Monocyte       0.80      0.91      0.85       234\n",
      "  Neutrophil       0.99      0.94      0.97      2660\n",
      "\n",
      "    accuracy                           0.95      4339\n",
      "   macro avg       0.89      0.95      0.92      4339\n",
      "weighted avg       0.96      0.95      0.95      4339\n",
      "\n"
     ]
    }
   ],
   "source": [
    "y_pred = model.predict(test_ds)\n",
    "y_pred_classes = y_pred.argmax(axis=1)\n",
    "\n",
    "y_true = []\n",
    "for _, labels in test_ds:\n",
    "    y_true.extend(labels.numpy())\n",
    "y_true = np.array(y_true)\n",
    "y_true = np.argmax(y_true, axis=1)  \n",
    "\n",
    "acc = accuracy_score(y_true, y_pred_classes)\n",
    "print(f\"Test Accuracy: {acc:.4f}\") \n",
    "\n",
    "cm = confusion_matrix(y_true, y_pred_classes)\n",
    "plt.figure(figsize=(5, 4))\n",
    "sns.heatmap(cm, annot=True, fmt='d', cmap='Blues')\n",
    "plt.xlabel(\"Predicted\")\n",
    "plt.ylabel(\"Actual\")\n",
    "plt.title(\"Confusion Matrix on Test Data\")\n",
    "plt.show()\n",
    "\n",
    "print(classification_report(y_true, y_pred_classes, target_names=class_names))\n"
   ]
  },
  {
   "cell_type": "code",
   "execution_count": null,
   "metadata": {
    "trusted": true
   },
   "outputs": [],
   "source": []
  }
 ],
 "metadata": {
  "kaggle": {
   "accelerator": "nvidiaTeslaT4",
   "dataSources": [
    {
     "datasetId": 7866187,
     "sourceId": 12468652,
     "sourceType": "datasetVersion"
    },
    {
     "datasetId": 7866208,
     "sourceId": 12468676,
     "sourceType": "datasetVersion"
    },
    {
     "datasetId": 7866572,
     "sourceId": 12469183,
     "sourceType": "datasetVersion"
    }
   ],
   "dockerImageVersionId": 31090,
   "isGpuEnabled": true,
   "isInternetEnabled": true,
   "language": "python",
   "sourceType": "notebook"
  },
  "kernelspec": {
   "display_name": "dl_py",
   "language": "python",
   "name": "python3"
  },
  "language_info": {
   "codemirror_mode": {
    "name": "ipython",
    "version": 3
   },
   "file_extension": ".py",
   "mimetype": "text/x-python",
   "name": "python",
   "nbconvert_exporter": "python",
   "pygments_lexer": "ipython3",
   "version": "3.10.18"
  }
 },
 "nbformat": 4,
 "nbformat_minor": 4
}
